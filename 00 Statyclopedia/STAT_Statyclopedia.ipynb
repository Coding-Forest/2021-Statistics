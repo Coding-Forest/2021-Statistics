{
  "nbformat": 4,
  "nbformat_minor": 0,
  "metadata": {
    "colab": {
      "name": "STAT Statyclopedia.ipynb",
      "provenance": [],
      "collapsed_sections": [],
      "toc_visible": true,
      "authorship_tag": "ABX9TyMuvB0Lcjmn5f1bPz9JbUma",
      "include_colab_link": true
    },
    "kernelspec": {
      "name": "python3",
      "display_name": "Python 3"
    },
    "language_info": {
      "name": "python"
    }
  },
  "cells": [
    {
      "cell_type": "markdown",
      "metadata": {
        "id": "view-in-github",
        "colab_type": "text"
      },
      "source": [
        "<a href=\"https://colab.research.google.com/github/Coding-Forest/2021-Statistics/blob/main/00%20Statyclopedia/STAT_Statyclopedia.ipynb\" target=\"_parent\"><img src=\"https://colab.research.google.com/assets/colab-badge.svg\" alt=\"Open In Colab\"/></a>"
      ]
    },
    {
      "cell_type": "markdown",
      "metadata": {
        "id": "NAVOUukIMaLg"
      },
      "source": [
        "# Encyclopedia of Key Statistical Concepts and functions"
      ]
    },
    {
      "cell_type": "markdown",
      "metadata": {
        "id": "gWwVYdw1s79A"
      },
      "source": [
        "# 1. Probability"
      ]
    },
    {
      "cell_type": "markdown",
      "metadata": {
        "id": "DoM7ItOts-ns"
      },
      "source": [
        "## 1) Factorial"
      ]
    },
    {
      "cell_type": "code",
      "metadata": {
        "id": "SRNXQQx1tEQX"
      },
      "source": [
        "math.factorial(number)"
      ],
      "execution_count": null,
      "outputs": []
    },
    {
      "cell_type": "markdown",
      "metadata": {
        "id": "xwMP9UYOr9bd"
      },
      "source": [
        "## 2) N choose K\n",
        "\n",
        "$$ {n \\choose k} = \\frac{n!}{k!(n - k)!} $$"
      ]
    },
    {
      "cell_type": "code",
      "metadata": {
        "id": "_wbgFc8jr-GP"
      },
      "source": [
        "def n_choose_k(n, k):\n",
        "    return math.factorial(n) / (math.factorial(k) * math.factorial(n-k)) "
      ],
      "execution_count": 2,
      "outputs": []
    },
    {
      "cell_type": "markdown",
      "metadata": {
        "id": "HzZQRTy-3E4Y"
      },
      "source": [
        "## Relationships between Probability\n",
        "\n",
        "See [4th notebook on this](https://github.com/Coding-Forest/2021-Statistics/blob/main/01%20Probability%20and%20Statistics%20for%20ML/STAT%2004%20Relationships%20Between%20Probabilities.ipynb)"
      ]
    },
    {
      "cell_type": "markdown",
      "metadata": {
        "id": "I9xbBBKU16X4"
      },
      "source": [
        "### Joint Probability Distribution\n",
        "$$P(x=x, y=y)$$"
      ]
    },
    {
      "cell_type": "markdown",
      "metadata": {
        "id": "qjyeSWry1-T5"
      },
      "source": [
        "### Marginal Probability\n",
        "\n",
        "$$\\forall x \\in x_1, P(x=x) = \\sum_{y}P(x=x, y=y)$$"
      ]
    },
    {
      "cell_type": "markdown",
      "metadata": {
        "id": "GpborgUD2fc3"
      },
      "source": [
        "### Conditional Probability\n",
        "\n",
        "$$P(y=y | x=x) = \\frac{P(y=y, x=x)}{P(x=x)}$$"
      ]
    },
    {
      "cell_type": "markdown",
      "metadata": {
        "id": "5a5s2Ilg22sR"
      },
      "source": [
        "### Chain Rule of Probabilities"
      ]
    },
    {
      "cell_type": "markdown",
      "metadata": {
        "id": "Xp9Rn33025jL"
      },
      "source": [
        "### Independent Random Variables"
      ]
    },
    {
      "cell_type": "markdown",
      "metadata": {
        "id": "-BrjTpPW2-Q4"
      },
      "source": [
        "### Conditional Independence"
      ]
    },
    {
      "cell_type": "markdown",
      "metadata": {
        "id": "zyJZGrddtIfY"
      },
      "source": [
        "# 2. Statistics"
      ]
    },
    {
      "cell_type": "markdown",
      "metadata": {
        "id": "4b_uiUjE3hya"
      },
      "source": [
        "## Fundamental Concepts 1"
      ]
    },
    {
      "cell_type": "markdown",
      "metadata": {
        "id": "fAx3XrQY-VYY"
      },
      "source": [
        "### Mean\n",
        "\n",
        "$$ \\bar{x} = \\frac{\\sum_{i=1}^n x_i}{n} $$"
      ]
    },
    {
      "cell_type": "markdown",
      "metadata": {
        "id": "gi-HWLnK1VxO"
      },
      "source": [
        "### Mode"
      ]
    },
    {
      "cell_type": "code",
      "metadata": {
        "id": "Z8i-52d81YqA"
      },
      "source": [
        "st.mode(number)"
      ],
      "execution_count": null,
      "outputs": []
    },
    {
      "cell_type": "markdown",
      "metadata": {
        "id": "UFQCKihr1ONx"
      },
      "source": [
        "### Quantile"
      ]
    },
    {
      "cell_type": "code",
      "metadata": {
        "id": "vQ6rWtNx1P3T"
      },
      "source": [
        "np.quantile(x, 0.5)"
      ],
      "execution_count": null,
      "outputs": []
    },
    {
      "cell_type": "markdown",
      "metadata": {
        "id": "f2Nyl28c1eHz"
      },
      "source": [
        "### Percentile"
      ]
    },
    {
      "cell_type": "code",
      "metadata": {
        "id": "PyL9pRat1glU"
      },
      "source": [
        "np.percentile(x, percentile)"
      ],
      "execution_count": null,
      "outputs": []
    },
    {
      "cell_type": "markdown",
      "metadata": {
        "id": "wk9PBy7C1mBs"
      },
      "source": [
        "### Skewness"
      ]
    },
    {
      "cell_type": "code",
      "metadata": {
        "id": "K2FZlZH-1njt"
      },
      "source": [
        "st.skewnorm.rvs(skewness=0, size=1000)"
      ],
      "execution_count": null,
      "outputs": []
    },
    {
      "cell_type": "markdown",
      "metadata": {
        "id": "Gizy_XIdtLf0"
      },
      "source": [
        "## Distributions"
      ]
    },
    {
      "cell_type": "markdown",
      "metadata": {
        "id": "cC66b8QnDkOr"
      },
      "source": [
        "### Locate where the number is"
      ]
    },
    {
      "cell_type": "code",
      "metadata": {
        "id": "zanfjOcEDmUM"
      },
      "source": [
        "len(np.where(y > 85)) # locate where 85 stands in a list."
      ],
      "execution_count": null,
      "outputs": []
    },
    {
      "cell_type": "markdown",
      "metadata": {
        "id": "UIpXw9hP5m3N"
      },
      "source": [
        "### Random sampling"
      ]
    },
    {
      "cell_type": "code",
      "metadata": {
        "id": "yJeXf5Qf5ohC"
      },
      "source": [
        "np.random.choice(x, size=10, replace=False)"
      ],
      "execution_count": null,
      "outputs": []
    },
    {
      "cell_type": "markdown",
      "metadata": {
        "id": "EJuwh0IU3ziI"
      },
      "source": [
        "### Uniform\n",
        "\n",
        "1. Dice rolling (PMF)\n",
        "2. Card drawing (PMF)\n",
        "3. Model hyperparameters: number of neurons in ANN\n",
        "4. Emission of radioactive particles\n",
        "5. Economic demand\n",
        "6. Analog-to-digital signal quantization errors"
      ]
    },
    {
      "cell_type": "code",
      "metadata": {
        "id": "TgV7XnXL369w"
      },
      "source": [
        "np.random.uniform(size=size)"
      ],
      "execution_count": null,
      "outputs": []
    },
    {
      "cell_type": "markdown",
      "metadata": {
        "id": "AL71pmcVsVPB"
      },
      "source": [
        "### Binomial"
      ]
    },
    {
      "cell_type": "code",
      "metadata": {
        "id": "uLBWPZQ1sXqs"
      },
      "source": [
        "np.random.binomial(events, probabiltiy, trials)"
      ],
      "execution_count": null,
      "outputs": []
    },
    {
      "cell_type": "code",
      "metadata": {
        "id": "qyGsNc6bsgZT"
      },
      "source": [
        "# np.unique turns event counts. \n",
        "target_event_count, total_event_count = np.unique(target_count, return_counts=True)"
      ],
      "execution_count": null,
      "outputs": []
    },
    {
      "cell_type": "markdown",
      "metadata": {
        "id": "cKfny2I87G3Z"
      },
      "source": [
        "### Multinomial"
      ]
    },
    {
      "cell_type": "code",
      "metadata": {
        "id": "lvuNwoqA7T-5"
      },
      "source": [
        "np.random.multinomial(n, [1/6.]*6)"
      ],
      "execution_count": null,
      "outputs": []
    },
    {
      "cell_type": "markdown",
      "metadata": {
        "id": "7FtJNNyM7Yuu"
      },
      "source": [
        "### Poisson"
      ]
    },
    {
      "cell_type": "code",
      "metadata": {
        "id": "h9YV8wKv7dA9"
      },
      "source": [
        "np.random.poisson(lam, size)"
      ],
      "execution_count": null,
      "outputs": []
    },
    {
      "cell_type": "markdown",
      "metadata": {
        "id": "hYkB2yRf3105"
      },
      "source": [
        "### Normal"
      ]
    },
    {
      "cell_type": "code",
      "metadata": {
        "id": "uEUt6GXs4ZC1"
      },
      "source": [
        "np.random.normal(size=10000)"
      ],
      "execution_count": null,
      "outputs": []
    },
    {
      "cell_type": "markdown",
      "metadata": {
        "id": "ZG-eXCMC65Z7"
      },
      "source": [
        "### Exponential"
      ]
    },
    {
      "cell_type": "code",
      "metadata": {
        "id": "yRCnqNwl665F"
      },
      "source": [
        "np.random.exponential(scale=4, size=10000)"
      ],
      "execution_count": null,
      "outputs": []
    },
    {
      "cell_type": "markdown",
      "metadata": {
        "id": "qc_Hx8Qp6_XR"
      },
      "source": [
        "### LaPlace"
      ]
    },
    {
      "cell_type": "code",
      "metadata": {
        "id": "mxuQu2NY7A_w"
      },
      "source": [
        "np.random.laplace(size=10000)"
      ],
      "execution_count": null,
      "outputs": []
    },
    {
      "cell_type": "markdown",
      "metadata": {
        "id": "oKIdQ-nj6utG"
      },
      "source": [
        "### Multimodal"
      ]
    },
    {
      "cell_type": "code",
      "metadata": {
        "id": "JcVTUq8X6wEV"
      },
      "source": [
        "np.concatenate((np.random.normal(size=5000), np.random.normal(loc=4.0, size=5000)))  # loc = mean location"
      ],
      "execution_count": null,
      "outputs": []
    },
    {
      "cell_type": "markdown",
      "metadata": {
        "id": "CR52yYGq7rXx"
      },
      "source": [
        "### Mixture \n",
        "\n",
        "See [5.8 Mixture Distributions](https://github.com/Coding-Forest/2021-Statistics/blob/main/01%20Probability%20and%20Statistics%20for%20ML/STAT%2005%20Distributions%20in%20Machine%20Learning.ipynb)"
      ]
    },
    {
      "cell_type": "markdown",
      "metadata": {
        "id": "VkdEe_1KtQdx"
      },
      "source": [
        "### PDF (Probability Density Function)\n",
        "\n",
        "Probability that $x$ is between points $a$ and $b$:\n",
        "\n",
        "$$\\int_{[a, b]}p(x)\\delta x = \\int^bp(x)\\delta x - \\int^ap(x)\\delta x$$\n",
        "\n",
        "- integrate two ranges and subtract the range $a$ from $b$. "
      ]
    },
    {
      "cell_type": "markdown",
      "metadata": {
        "id": "GTUAjtJF8X1X"
      },
      "source": [
        "## Information Theory"
      ]
    },
    {
      "cell_type": "markdown",
      "metadata": {
        "id": "CeAkcG_18bUM"
      },
      "source": [
        "### Shannon Entropy\n",
        "\n",
        "$$ H(x) = \\mathbb{E}_{\\text{x}\\sim P}[I(x)] \\\\ = -\\mathbb{E}_ {\\text{x}\\sim P}[\\text{log}P(x)] $$\n",
        "\n",
        "\n",
        "Low entropy:\n",
        "- Distribution is ~deterministic and outcomes are ~certain\n",
        "\n",
        "High entropy:\n",
        "- Outcomes are uncertain"
      ]
    },
    {
      "cell_type": "markdown",
      "metadata": {
        "id": "Juo6rBNt8r5Z"
      },
      "source": [
        "### Shannon Entropy for binary RV\n",
        "\n",
        "$$ (p-1)\\cdot \\text{log}(1-p)-p \\cdot \\text{log}p $$"
      ]
    },
    {
      "cell_type": "code",
      "metadata": {
        "id": "JfOxo4UH8c6h"
      },
      "source": [
        "import numpy as np\n",
        "\n",
        "def binary_entropy(p):\n",
        "    return (p-1) * np.log(1-p) - p * np.log(p)"
      ],
      "execution_count": null,
      "outputs": []
    },
    {
      "cell_type": "markdown",
      "metadata": {
        "id": "IUitIU2L9Aw0"
      },
      "source": [
        "### Differential entropy\n",
        "\n",
        "- simply the term for Shannon entropy if distribution is PDF.\n",
        "- used to calculate a single distribution."
      ]
    },
    {
      "cell_type": "markdown",
      "metadata": {
        "id": "ChZFqjdY9dis"
      },
      "source": [
        "### Kullback-Leibler Divergence and Cross-Entropy"
      ]
    },
    {
      "cell_type": "markdown",
      "metadata": {
        "id": "nIVxNvx49gWr"
      },
      "source": [
        "#### KL divergence\n",
        "$$ D_\\text{KL}(P||Q) = \\mathbb{E}_{\\text{x} \\sim P}[\\text{log}P(x) - \\text{log}Q(x)] $$"
      ]
    },
    {
      "cell_type": "markdown",
      "metadata": {
        "id": "t64Qb_xd9jdz"
      },
      "source": [
        "#### Cross Entropy\n",
        "\n",
        "$$ C = -(y \\cdot \\text{log}(\\hat{y}) + (1-y) \\cdot \\text{log}(1-\\hat{y})) $$\n",
        "\n",
        "$$ C = -(truth \\cdot \\text{log}(pred) + (1-truth) \\cdot \\text{log}(1-pred)) $$\n",
        "\n",
        "- Literally the values truth $y$ and pred $\\hat y$ are crossing over 1 in the equation."
      ]
    },
    {
      "cell_type": "code",
      "metadata": {
        "id": "iSsH2Pwg97G6"
      },
      "source": [
        "def cross_entropy(y, y_hat):    \n",
        "    return -1 * (y * np.log(y_hat) + (1 - y) * np.log(1 - y_hat))"
      ],
      "execution_count": null,
      "outputs": []
    },
    {
      "cell_type": "markdown",
      "metadata": {
        "id": "37f4zZsX8T-d"
      },
      "source": [
        "## Fundamental Concepts 2"
      ]
    },
    {
      "cell_type": "markdown",
      "metadata": {
        "id": "VBf-IX7ct1Hg"
      },
      "source": [
        "### Expectation\n",
        "\n",
        "If $x$ is discrete:$$E = \\sum_x x\\cdot P(x)$$\n",
        "\n",
        "If $x$ is continuous:$$E =\\int x \\cdot p(x)\\cdot \\delta x$$\n",
        "- value $x$ $\\times$ probability $x$ $\\times$ derivative of $x$"
      ]
    },
    {
      "cell_type": "markdown",
      "metadata": {
        "id": "9UpISC_Wu-Gg"
      },
      "source": [
        "### Variance\n",
        "\n",
        "Variance (denoted with $\\sigma^2$) can be written using expected-value notation, but it's easier to understand without it:\n",
        "\n",
        "$$\\sigma ^2 = f\\frac{\\sum_{i=1}^{n}(x_i - \\bar{x})^2}{n}$$\n",
        "\n",
        "$$\\text{difference squared} = \\frac{\\text{sum of all }\\text{(observation - truth)}^2}{\\text{sample size}}$$\n",
        "\n",
        "- Square all the difference and sum them up. \n",
        "- Divide them by the sample size."
      ]
    },
    {
      "cell_type": "code",
      "metadata": {
        "id": "hSHfBd2H0s3_"
      },
      "source": [
        "np.var(x)\n",
        "x.var(ddof=1)"
      ],
      "execution_count": null,
      "outputs": []
    },
    {
      "cell_type": "markdown",
      "metadata": {
        "id": "W6O4aj9nvrlG"
      },
      "source": [
        "### Standard Deviation\n",
        "\n",
        "$$\\sigma = \\sqrt{\\sigma^2} = \\sqrt{f\\frac{\\sum_{i=1}^{n}(x_i - \\bar{x})^2}{n}}$$\n",
        "\n",
        "$$\\text{root of squared difference} = \\sqrt{\\sigma^2}$$\n",
        "\n",
        "$$ = \\sqrt{\\frac{\\text{sum of all }(observation - truth)^2}{\\text{sample size}}}$$\n"
      ]
    },
    {
      "cell_type": "markdown",
      "metadata": {
        "id": "IcLHlN2Pwr5U"
      },
      "source": [
        "### Standard Error\n",
        "\n",
        "- A further derivation of standard deviation.\n",
        "- The standard deviation of a sample $\\bar x$\n",
        "\n",
        "$$\\sigma_{\\bar x} = \\frac{\\sigma}{\\sqrt n}$$\n",
        "\n",
        "$$\\sigma_{\\bar x} = \\frac{\\text{standard deviation}}{\\sqrt {\\text{sample size}}}$$"
      ]
    },
    {
      "cell_type": "code",
      "metadata": {
        "id": "OvNkkHOhC8Bu"
      },
      "source": [
        "st.sem(x)"
      ],
      "execution_count": null,
      "outputs": []
    },
    {
      "cell_type": "markdown",
      "metadata": {
        "id": "CAzD9bDa-o1i"
      },
      "source": [
        "### z-score\n",
        "\n",
        "$$ z = \\frac{x_i-\\mu}{\\sigma} $$\n",
        "\n",
        "$$ z = \\frac{x_i-\\text{mean}}{\\text{standard deviation}} $$\n",
        "\n",
        "- A unit of standard deviation\n",
        "- (observation minus mean) divided by SD."
      ]
    },
    {
      "cell_type": "markdown",
      "metadata": {
        "id": "8UTi9a1H_Dq5"
      },
      "source": [
        "### p-values\n",
        "\n",
        "- `st.norm.ppf(.025)`\n",
        "  - pass in p-value, returns z-score\n",
        "- `st.norm.cdf(-2.5)`\n",
        "  - pass in z-score, returns p-value"
      ]
    },
    {
      "cell_type": "markdown",
      "metadata": {
        "id": "uNTBbP7BDA4P"
      },
      "source": [
        "#### CDF - Cumulative Distribution Function"
      ]
    },
    {
      "cell_type": "code",
      "metadata": {
        "id": "L-ca6UP__bXW"
      },
      "source": [
        "#import scipy.stats as st\n",
        "# pass in z-score to get the percentile \n",
        "st.norm.cdf(z-score)"
      ],
      "execution_count": null,
      "outputs": []
    },
    {
      "cell_type": "code",
      "metadata": {
        "id": "xCClu3Hd_kaU"
      },
      "source": [
        "st.norm.cdf(-2.5)    # below 2.5 percentile, namely within 2.5%\n",
        "1-st.norm.cdf(2.5)   # above 2.5 percentile, namely over 97.5% \n",
        "                     # returns the percentile p-value between 0 and 1."
      ],
      "execution_count": null,
      "outputs": []
    },
    {
      "cell_type": "markdown",
      "metadata": {
        "id": "Ulv1ed7IBSJ1"
      },
      "source": [
        "#### PPD - Percent Point Function\n",
        "\n",
        "- The method `norm.ppf()` takes a percentage and returns a **standard deviation multiplier** for what value that percentage occurs at.\n",
        "\n",
        "- It is equivalent to a, 'One-tail test' on the density plot.\n",
        "\n",
        "Stackoverflow source discussion [here](https://stackoverflow.com/questions/60699836/how-to-use-norm-ppf)."
      ]
    },
    {
      "cell_type": "code",
      "metadata": {
        "id": "oVai2-hOCXa8"
      },
      "source": [
        "st.norm.ppf(.025) # returns z-score\n",
        "st.norm.ppf(.975)"
      ],
      "execution_count": null,
      "outputs": []
    },
    {
      "cell_type": "code",
      "metadata": {
        "id": "M5SkfqcqBy7W"
      },
      "source": [
        "norm.ppf(0.95, loc=0, scale=1)\n",
        "\n",
        "# Returns a 95% significance interval for a one-tail test \n",
        "# on a standard normal distribution (mean=0, std=1)"
      ],
      "execution_count": null,
      "outputs": []
    },
    {
      "cell_type": "markdown",
      "metadata": {
        "id": "CVqtthiRxiwj"
      },
      "source": [
        "### Covariance\n",
        "- Two variables: $x$ and $y$\n",
        "- For two vectors of the same length, $x$ and $y$,\n",
        "- where each element of $x$ is paired with the corresponding element of $y$, \n",
        "- Covariance measures how related the two variables are to each other.\n",
        "\n",
        "<br/>\n",
        "\n",
        "$$cov(x, y) = \\frac{\\sum_{i=1}^{n}(x_i - \\bar{x})(y_i - \\bar{y})}{n}$$\n",
        "\n",
        "$$cov(x, y) = \\frac{\\text{sum of all }(i_{th} \\text{ data point} - \\text{mean of }x) \\times (i_{th} \\text{ data point} - \\text{mean of }y)}{sample size}$$\n",
        "\n",
        "<br/>\n",
        "\n",
        "- sum of $variance(x) \\times variance (y)$ divided by $length(n)$"
      ]
    },
    {
      "cell_type": "code",
      "metadata": {
        "id": "7cPJEijty4N0"
      },
      "source": [
        "np.cov(x, y, ddof=0)"
      ],
      "execution_count": null,
      "outputs": []
    },
    {
      "cell_type": "markdown",
      "metadata": {
        "id": "5HjWbQmfy8YA"
      },
      "source": [
        "### Correlation\n",
        "$$\\rho _{x, y}=\\frac{cov(x,y)}{\\sigma_x\\sigma_y}$$\n",
        "\n",
        "$$\\rho _{x, y}=\\frac{\\text{covariance of } x \\text{ and }y}{\\text{standard error of }x \\times \\text{standard error of }y}$$\n",
        "\n",
        "<br/>\n",
        "\n",
        "- \"*A drawback of [covariance](https://github.com/jonkrohn/ML-foundations/blob/master/notebooks/5-probability.ipynb) is that it confounds the relative scale of two variables with a measure of the variables' relatedness. Correlation builds on covariance and overcomes this drawback via rescaling, thereby measuring relatedness exclusively. Correlation is much more common because of this difference.*\"\n",
        "\n",
        "- \"*Covariance and correlation only account for linear relationships. Two variables could be non-linearly related to each other and these metrics could come out as zero*.\"\n",
        "\n",
        "See [3.10](https://github.com/Coding-Forest/2021-Statistics/blob/main/01%20Probability%20and%20Statistics%20for%20ML/STAT%2003%20Describing%20Distributions.ipynb)"
      ]
    },
    {
      "cell_type": "markdown",
      "metadata": {
        "id": "WjCkvSr_0e1D"
      },
      "source": [
        "### Pearson correlation\n",
        "\n"
      ]
    },
    {
      "cell_type": "code",
      "metadata": {
        "id": "1EoCRwDR0hqv"
      },
      "source": [
        "st.pearsonr(x, y)"
      ],
      "execution_count": null,
      "outputs": []
    },
    {
      "cell_type": "markdown",
      "metadata": {
        "id": "quaLDkNIEeWt"
      },
      "source": [
        "## Comparing Means - t-tests"
      ]
    },
    {
      "cell_type": "markdown",
      "metadata": {
        "id": "HJlIGirEEixN"
      },
      "source": [
        "### T-tests"
      ]
    },
    {
      "cell_type": "markdown",
      "metadata": {
        "id": "z-h75lLQEmUd"
      },
      "source": [
        "#### Student's One Sample t-test\n",
        "\n",
        "The single-sample t-test is a variation of z-score:\n",
        "\n",
        "<br/>\n",
        "\n",
        "$$ t = \\frac{\\bar{x} - \\mu_0}{s_{\\bar{x}}} $$\n",
        "\n",
        "$$ t = \\frac{\\text{sample mean} - \\text{references mean}}{\\text{sample's standard error}} $$\n",
        "\n",
        "<br/>\n",
        "\n",
        "- $\\bar{x}$ is the sample mean\n",
        "- $\\mu_0$ is a reference mean, e.g., known population mean or \"null hypothesis\" mean\n",
        "- $s_{\\bar{x}}$ is the sample standard error\n",
        "\n",
        "<br/>\n",
        "\n",
        "Compare witht he below z-score formula: \n",
        "$$ z = \\frac{x_i-\\mu}{\\sigma} $$"
      ]
    },
    {
      "cell_type": "code",
      "metadata": {
        "id": "s0Frgy7eJOWh"
      },
      "source": [
        "st.ttest_1samp(x, reference_mean)"
      ],
      "execution_count": null,
      "outputs": []
    },
    {
      "cell_type": "code",
      "metadata": {
        "id": "yIvPhvZNKvYq"
      },
      "source": [
        "# returns: t-stsatistic & p-value\n",
        "Ttest_1sampResult(statistic=1.1338934190276817, pvalue=0.3392540508564543)"
      ],
      "execution_count": null,
      "outputs": []
    },
    {
      "cell_type": "markdown",
      "metadata": {
        "id": "j1dpmbSgGFYr"
      },
      "source": [
        "t-score compares the sample mean against a reference mean, while z-score estimates the spread of a data point against the population mean."
      ]
    },
    {
      "cell_type": "markdown",
      "metadata": {
        "id": "9s8oYzMOGWDr"
      },
      "source": [
        "#### Welch's Independent Two-Sample t-test\n",
        "Compare the means of two separate samples.\n",
        "\n",
        "**Welch's Independent t-test**\n",
        "\n",
        "$$ t = \\frac{\\bar{x} - \\bar{y}}{\\sqrt{\\frac{s^2_x}{n_x} + \\frac{s^2_y}{n_y}}} $$\n",
        "\n",
        "\n",
        "Where:\n",
        "\n",
        "- $\\bar{x}$ and $\\bar{y}$ are the sample means\n",
        "- $s^2_x$ and $s^2_y$ are the sample variances\n",
        "- $n_x$ and $n_y$ are the sample sizes"
      ]
    },
    {
      "cell_type": "code",
      "metadata": {
        "id": "04XTpnL3HgmT"
      },
      "source": [
        "st.ttest_ind(sample1, sample2, equal_var=False)"
      ],
      "execution_count": null,
      "outputs": []
    },
    {
      "cell_type": "code",
      "metadata": {
        "id": "c9eYE-fIKend"
      },
      "source": [
        "# returns: t-stsatistic & p-value\n",
        "Ttest_indResult(statistic=4.5588666963515765, pvalue=1.1099750778082192e-05)"
      ],
      "execution_count": null,
      "outputs": []
    },
    {
      "cell_type": "markdown",
      "metadata": {
        "id": "9Wnp9HL4HxDK"
      },
      "source": [
        "#### Student's Paired-Sample t-test\n",
        "\n",
        "$$ t = \\frac{\\bar{d} - \\mu_0}{s_\\bar{d}} $$\n",
        "\n",
        "$$ t = \\frac{\\text{vector of differences btw paird } x \\text{ and }y  - \\text{typically 0}}{\\text{standard error of the differences}} $$\n",
        "\n",
        "<br/>\n",
        "\n",
        "Where:\n",
        "\n",
        "- $d$ is a vector of the differences between paired samples $x$ and $y$\n",
        "- $\\bar{d}$ is the mean of the differences\n",
        "- $\\mu_0$ will typically be zero, meaning the null hypothesis is that there is no difference between $x$ and $y$\n",
        "- $s_\\bar{d}$ is the standard error of the differences\n",
        "\n",
        "(Note how similar to single-sample t-test formula.)"
      ]
    },
    {
      "cell_type": "code",
      "metadata": {
        "id": "fuOxkglgJuTl"
      },
      "source": [
        "st.ttest_rel(sample1, sample2)"
      ],
      "execution_count": null,
      "outputs": []
    },
    {
      "cell_type": "code",
      "metadata": {
        "id": "baR8K5G0J4m8"
      },
      "source": [
        "# returns: t-stsatistic & p-value\n",
        "Ttest_relResult(statistic=3.3541019662496847, pvalue=0.02846020325433834) "
      ],
      "execution_count": null,
      "outputs": []
    },
    {
      "cell_type": "markdown",
      "metadata": {
        "id": "KrYoa5rXIhnB"
      },
      "source": [
        "#### Applications of t-test in ML\n",
        "\n",
        "\n",
        "1) **Single Sample T-test**\n",
        "A variation of measure of spread using z-score (std)\n",
        "\n",
        "- You invent your own ML model and compare it against the established benchmark.\n",
        "- Run my model a number of times, get a sample of model outputs of model accuracies.\n",
        "- Using the single sample t-test, you can compare the sample of accuracies from your stochastic model against the established benchmark and get an assessment of the statistical significance of your performance.\n",
        "\n",
        "2) **Independent T-test**\n",
        "Comparing the means of two different datasets.\n",
        "\n",
        "- Does your model have unwanted bias in it?\n",
        "- You can test this using independent samples\n",
        "- Use independent samples to stratify our data set by different demographic groups.\n",
        "- Compare the model outputs for one group against the other groups.\n",
        "- Are the difference statistically significant?\n",
        "\n",
        "3) **Paired Sample T-test**\n",
        "- You invented a new TensorFlow model running a neural network in a browser. Is it significantly faster than the old model in the browser?\n",
        "\n",
        "- Prepare paired samples with varying conditions:\n",
        "  - Try a bunch of runs with your new model versus your old model and you see which one performs higher than the other.\n",
        "  - Run the pairs on different browsers - Safari, Firefox, Chrome, on a mobile device, on a tablet, and on a desktop computer;\n",
        "  - Pair by the situations where you test the old model on Safari on an iPhone, and you test the new model on Safari on an iPhone."
      ]
    },
    {
      "cell_type": "markdown",
      "metadata": {
        "id": "HEJFmvnvK8QS"
      },
      "source": [
        "## Confidence Interval\n",
        "\n",
        "$$C.I. =\\bar x \\pm z\\frac{s}{\\sqrt n}$$\n",
        "\n",
        "\n",
        "Where:\n",
        "\n",
        "- $\\bar{x}$: the sample mean\n",
        "- $s$: the sample standard deviation\n",
        "- $n$: the sample size\n",
        "- $z$: a z-score threshold\n",
        "  - Some popular $z$ thresholds:\n",
        "    - 95% CI: $z \\pm 1.960$; \n",
        "    - 90% CI at $z \\pm 1.645$ \n",
        "    - 99% CI at $z \\pm 2.576$"
      ]
    },
    {
      "cell_type": "markdown",
      "metadata": {
        "id": "mF919WGuMGTx"
      },
      "source": [
        "## ANOVA test\n",
        "\n",
        "Enables us to compare more than 2 samples in a single statistical analysis.\n",
        "\n",
        "There are 3 assumptions to run ANOVA test. The samples must:\n",
        "\n",
        "- independent (not paired)\n",
        "- normally distributed\n",
        "- Homoscedasticity: population standard deviations are equal."
      ]
    },
    {
      "cell_type": "code",
      "metadata": {
        "id": "Cb_63bglMH4k"
      },
      "source": [
        "st.f_oneway(sample1, sample2, sample3)"
      ],
      "execution_count": null,
      "outputs": []
    },
    {
      "cell_type": "code",
      "metadata": {
        "id": "1zPtFKkZMLQc"
      },
      "source": [
        "# returns: t-stsatistic & p-value\n",
        "F_onewayResult(statistic=0.22627752438542714, pvalue=0.7980777848719299)"
      ],
      "execution_count": null,
      "outputs": []
    },
    {
      "cell_type": "markdown",
      "metadata": {
        "id": "0xVdWzwnsuVW"
      },
      "source": [
        "# 2. Plotting"
      ]
    },
    {
      "cell_type": "markdown",
      "metadata": {
        "id": "InocEeVMswKI"
      },
      "source": [
        "## Bar graph"
      ]
    },
    {
      "cell_type": "code",
      "metadata": {
        "id": "GTA6kIkCsvt0"
      },
      "source": [
        "plt.bar(x_event, event_prob, color='mediumpurple')"
      ],
      "execution_count": null,
      "outputs": []
    },
    {
      "cell_type": "markdown",
      "metadata": {
        "id": "jdb8uqjmumEo"
      },
      "source": [
        "## Scatterplot\n",
        "\n",
        "- Matplotlib\n",
        "- Seaborn"
      ]
    },
    {
      "cell_type": "code",
      "metadata": {
        "id": "NRMtW7gs02ME"
      },
      "source": [
        "plt.scatter(x, y, c=c)"
      ],
      "execution_count": null,
      "outputs": []
    },
    {
      "cell_type": "code",
      "metadata": {
        "id": "ZJWlG0r-yv25"
      },
      "source": [
        "sb.scatterplot(x=x, y=y)"
      ],
      "execution_count": null,
      "outputs": []
    },
    {
      "cell_type": "markdown",
      "metadata": {
        "id": "XNBsbRqO1Cpn"
      },
      "source": [
        "## Boxplot"
      ]
    },
    {
      "cell_type": "code",
      "metadata": {
        "id": "WdVA-h8l1D-l"
      },
      "source": [
        "sb.boxplot(x=, y=, hue=colour, data=dataset)"
      ],
      "execution_count": null,
      "outputs": []
    },
    {
      "cell_type": "markdown",
      "metadata": {
        "id": "T49qs1cA4lbH"
      },
      "source": [
        "## Displot"
      ]
    },
    {
      "cell_type": "code",
      "metadata": {
        "id": "Qo5Kc_4T4m6x"
      },
      "source": [
        "sb.displot(x, kde=True)"
      ],
      "execution_count": null,
      "outputs": []
    },
    {
      "cell_type": "markdown",
      "metadata": {
        "id": "ToNI0tWT4BmD"
      },
      "source": [
        "## Distplot"
      ]
    },
    {
      "cell_type": "code",
      "metadata": {
        "id": "2sR0MTaB4DZk"
      },
      "source": [
        "sb.distplot(x)  # y unit = density"
      ],
      "execution_count": null,
      "outputs": []
    },
    {
      "cell_type": "markdown",
      "metadata": {
        "id": "_Omivvfc4JX4"
      },
      "source": [
        "## Histplot"
      ]
    },
    {
      "cell_type": "code",
      "metadata": {
        "id": "5K3Iw2jo4KsE"
      },
      "source": [
        "sb.histplot(x)  # y unit = count"
      ],
      "execution_count": null,
      "outputs": []
    },
    {
      "cell_type": "markdown",
      "metadata": {
        "id": "JGx5ePk0LduV"
      },
      "source": [
        "### Auxiliary plotting functions"
      ]
    },
    {
      "cell_type": "markdown",
      "metadata": {
        "id": "WhV6-PubLqvT"
      },
      "source": [
        "##### plt.errorbar()\n"
      ]
    },
    {
      "cell_type": "code",
      "metadata": {
        "id": "BG9D3glRLrLg"
      },
      "source": [
        "ax.errorbar(['x label'], [mean], [CI error], fmt='o', color='green', label='')"
      ],
      "execution_count": null,
      "outputs": []
    },
    {
      "cell_type": "markdown",
      "metadata": {
        "id": "j-7PzucSLhoR"
      },
      "source": [
        "##### plt.grid(axis=)\n"
      ]
    },
    {
      "cell_type": "code",
      "metadata": {
        "id": "Dkwi_rMfLl7y"
      },
      "source": [
        "plt.grid(axis='y')"
      ],
      "execution_count": null,
      "outputs": []
    }
  ]
}